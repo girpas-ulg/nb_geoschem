{
 "metadata": {
  "name": "",
  "signature": "sha256:6a2615b37bc4a11906ecee86620192f317d03c1d057052ff4e797d5d8fb3149b"
 },
 "nbformat": 3,
 "nbformat_minor": 0,
 "worksheets": [
  {
   "cells": [
    {
     "cell_type": "markdown",
     "metadata": {},
     "source": [
      "Extract tracer profiles and compute total columns above a given station from GEOS-Chem outputs \n",
      "==============================================================================================\n",
      "\n",
      "'Run' version.\n",
      "For more details, see 'Profiles_Station_GEOSChem_dev.ipynb'\n"
     ]
    },
    {
     "cell_type": "markdown",
     "metadata": {},
     "source": [
      "1. Inputs\n",
      "---------\n",
      "\n",
      "**Warning:** Beware of specified output directory and output filenames. Any existing file will be overwritten !!"
     ]
    },
    {
     "cell_type": "code",
     "collapsed": false,
     "input": [
      "# ### INPUT FILES (GEOS-Chem outputs) ###\n",
      "in_dir = \"/home/mahieu/geos.runs/run_2x2.5dc/ts_files/\"\n",
      "                                        # input main directory, which should contain GEOS-Chem ouput datafields.\n",
      "in_files = [\"ts.joch.200401*\",]      \n",
      "                                        # a list of one or several GEOS-Chem datafields file(s).\n",
      "                                        #\n",
      "                                        #   Each list item can be \n",
      "                                        #   (1) a the name of a file present in `in_dir` or \n",
      "                                        #   (2) an absolute path to a file or\n",
      "                                        #   (3) any file-matching pattern using de wildcard character. \n",
      "                                        #\n",
      "                                        #   Mixing CTM outputs and ND49 outputs (time series) may work, but \n",
      "                                        #   datafields must not overlap in time.\n",
      "                                        #   All datafields contained in the files must use the same horizontal\n",
      "                                        #   grid (or a subset of this grid)!\n",
      "\n",
      "                      \n",
      "# ### OUTPUT FILES ###\n",
      "out_dir = \"/home/bovy/temp/\"      \n",
      "                                        # path to save output files where extracted data will be written\n",
      "out_profiles_basename = \"*_profiles_2004_01\"    \n",
      "                                        # basename of output file for profiles\n",
      "                                        #   (any wildcard \"*\" will be replaced by `station_name`)\n",
      "out_columns_basename = \"*_columns_2004_01\"      \n",
      "                                        # basename of output file for columns\n",
      "out_format = \"xlsx\"                     # format of output file (\"csv\", \"hdf5\", \"xls\", \"xlsx\")\n",
      "\n",
      "\n",
      "# ### TRACERS AND DIAGNOSTICS ###                                        \n",
      "tracers = [\"PAN\", \"CO\", \"ACET\", \"C3H8\", \"CH2O\", \"C2H6\", \"NH3\"]  \n",
      "                                        # a list of tracers/diagnostics for which profiles and columns\n",
      "                                        #   will be extracted/computed\n",
      "categories = [\"IJ-AVG-$\",]                \n",
      "                                        # a list of diagnostic categories (should be \"IJ-AVG-$\" for tracers)\n",
      "\n",
      "other_fields = ['PSURF_PEDGE-$', 'BXHEIGHT_BXHGHT-$', 'AIRDEN_TIME-SER', 'N(AIR)_BXHGHT-$', 'TMPU_DAO-3D-$']\n",
      "                                        # additional fields names to load (format: 'diagnostic_category')\n",
      "                                        # \n",
      "                                        #   Must at least include datafields required for columns calculation,\n",
      "                                        #   i.e., 'PSURF_PEDGE-$', 'BXHEIGHT_BXHGHT-$', 'AIRDEN_TIME-SER',\n",
      "                                        #   'N(AIR)_BXHGHT-$', 'TMPU_DAO-3D-$'\n",
      "\n",
      "\n",
      "# ### STATION ###\n",
      "station_name = \"JungfrauJoch\"           # name of the station\n",
      "station_lat = 46.54806                  # lat [degrees_north]\n",
      "station_lon = 7.98389                   # lon [degress_east]\n",
      "station_pressure = 659.3                # default, fixed air pressure at the station [hPa],\n",
      "                                        #   used for columns calculation using pressures.\n",
      "station_altitude = 3580.                # elevation a.s.l at the station [meters],\n",
      "                                        #   used for columns calculation using altitudes.\n",
      "\n",
      "station_vertical_grid_file = '/home/bovy/Grids/NDACC_vertical_Jungfraujoch_39L_2x2.5.nc'\n",
      "                                        # path to the file (CF-netCDF) that contains the altitude values\n",
      "                                        #   of the vertical grid on which data will be regridded.\n",
      "\n",
      "# ### SUPPLY ADDITIONAL INFO AND DATA ###\n",
      "grid_model_name = 'GEOS57_47L'          # grid model name (see below for common names)\n",
      "                                        #   all GEOS-Chem ouputs specified above must use this grid\n",
      "grid_model_resolution = 2.5, 2          # grid horizontal resolution (lon, lat) [degrees]\n",
      "                                        #   all GEOS-Chem ouputs specified above must use this resolution\n",
      "    \n",
      "imin, imax = 76, 77                     # (min, max) grid indices of the 3D region box of interest\n",
      "jmin, jmax = 69, 70                     #   i: longitude, j: latitude, l: vertical levels\n",
      "lmin, lmax = 1, 47                      # \n",
      "                                        #   Must match the extent that was defined for any ND49\n",
      "                                        #   diagnostic output specified in `in_files`.\n",
      "                                        #   Must emcompass the position of the station (see below).\n",
      "                                        #\n",
      "                                        #   Used either to define the coordinates of ND49 outputs or to\n",
      "                                        #   extract a subset from the global CTM datafields.\n",
      "\n",
      "global_topography_datafile = '/home/bovy/Grids/dem_GEOS57_2x2.5_awm.nc'\n",
      "                                        # path to the file of global topography needed for resampling\n",
      "                                        #   the tracer profiles on a vertical grid with fixed altitude values.\n",
      "                                        #   The global topography grid must be compatible with the\n",
      "                                        #   GEOS-Chem grid used by the output GEOS-Chem files.\n",
      "\n"
     ],
     "language": "python",
     "metadata": {},
     "outputs": []
    },
    {
     "cell_type": "markdown",
     "metadata": {},
     "source": [
      "- *Display the list of netCDF or bpch files in `in_dir`* (UNIX only)"
     ]
    },
    {
     "cell_type": "code",
     "collapsed": false,
     "input": [
      "%cd $in_dir\n",
      "!ls *.{nc,bpch} -all -h"
     ],
     "language": "python",
     "metadata": {},
     "outputs": []
    },
    {
     "cell_type": "markdown",
     "metadata": {},
     "source": [
      "- *Display the names of the supported GEOS-Chem grid models*"
     ]
    },
    {
     "cell_type": "code",
     "collapsed": false,
     "input": [
      "import pygchem.grid as gcgrid\n",
      "\n",
      "gcgrid.CTMGrid.models"
     ],
     "language": "python",
     "metadata": {},
     "outputs": []
    },
    {
     "cell_type": "markdown",
     "metadata": {},
     "source": [
      "2. Run\n",
      "------"
     ]
    },
    {
     "cell_type": "code",
     "collapsed": false,
     "input": [
      "import os\n",
      "\n",
      "ipynb_root = os.path.join(os.path.expanduser('~'), 'IPYNotebooks')\n",
      "run_scripts_dir = os.path.join(ipynb_root, 'nb_geoschem', 'run_scripts')\n",
      "\n",
      "%cd $run_scripts_dir\n",
      "execfile('Profiles_Station_GEOSChem_run.py')"
     ],
     "language": "python",
     "metadata": {},
     "outputs": []
    },
    {
     "cell_type": "code",
     "collapsed": false,
     "input": [
      "!ls $out_dir -all -h"
     ],
     "language": "python",
     "metadata": {},
     "outputs": []
    },
    {
     "cell_type": "code",
     "collapsed": false,
     "input": [],
     "language": "python",
     "metadata": {},
     "outputs": []
    }
   ],
   "metadata": {}
  }
 ]
}
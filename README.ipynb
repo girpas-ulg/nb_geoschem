{
 "metadata": {
  "name": "",
  "signature": "sha256:222e732438af5d59f93106d3c8a40084d38254d69446c2d49d0a9dc61f3f664f"
 },
 "nbformat": 3,
 "nbformat_minor": 0,
 "worksheets": [
  {
   "cells": [
    {
     "cell_type": "markdown",
     "metadata": {},
     "source": [
      "nb_geoschem\n",
      "===========\n",
      "\n",
      "Notebooks for various GEOS-Chem IO processing."
     ]
    },
    {
     "cell_type": "code",
     "collapsed": false,
     "input": [],
     "language": "python",
     "metadata": {},
     "outputs": []
    }
   ],
   "metadata": {}
  }
 ]
}
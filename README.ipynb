{
 "metadata": {
  "name": "",
  "signature": "sha256:e72da08a599378ef07a662a43feefe025dbf92c644d06eb125c77ae7c050c502"
 },
 "nbformat": 3,
 "nbformat_minor": 0,
 "worksheets": [
  {
   "cells": [
    {
     "cell_type": "code",
     "collapsed": false,
     "input": [
      "%load README.md"
     ],
     "language": "python",
     "metadata": {},
     "outputs": [],
     "prompt_number": 9
    },
    {
     "cell_type": "markdown",
     "metadata": {},
     "source": [
      "nb_geoschem\n",
      "===========\n",
      "\n",
      "Notebooks for various GEOS-Chem pre/post processing.\n",
      "\n",
      "\n",
      "Notes\n",
      "-----\n",
      "\n",
      "For advanced processing tasks, it is recommended to create\n",
      "several notebooks, each having its own role:\n",
      "\n",
      "- The notebook with the suffix `_dev` is the development/detailled version\n",
      "  (it generally includes all source code plus basic testing and plotting)\n",
      "\n",
      "- The notebooks with the suffix `_run-xxx` should be used to run several\n",
      "  processing tasks in production (each of these notebooks should be a copy\n",
      "  for each independent run, with `xxx` replaced by a specific run name).\n",
      "\n",
      "- Any additional notebooks can be created with suffixes like `_analysis-xxx`,\n",
      "  `_plot-xxx`, etc... which depend on specific post-processing or visualization\n",
      "  related to a particular run. \n",
      "\n",
      "\n",
      "Additional folders:\n",
      "\n",
      "- `run_scripts` contains the script version of advanced processing tasks\n",
      "  (usually called from the `_run` notebooks).\n",
      "- `data` contains several datasets used in run examples."
     ]
    }
   ],
   "metadata": {}
  }
 ]
}